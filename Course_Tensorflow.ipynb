{
  "nbformat": 4,
  "nbformat_minor": 0,
  "metadata": {
    "kernelspec": {
      "display_name": "Python 3",
      "language": "python",
      "name": "python3"
    },
    "language_info": {
      "codemirror_mode": {
        "name": "ipython",
        "version": 2
      },
      "file_extension": ".py",
      "mimetype": "text/x-python",
      "name": "python",
      "nbconvert_exporter": "python",
      "pygments_lexer": "ipython2",
      "version": "2.7.6"
    },
    "colab": {
      "name": "Course_Tensorflow.ipynb",
      "provenance": []
    }
  },
  "cells": [
    {
      "cell_type": "markdown",
      "metadata": {
        "collapsed": true,
        "pycharm": {
          "name": "#%% md\n"
        },
        "id": "WKIOQ15nZIhK"
      },
      "source": [
        "# Tensorflow course\n",
        "## Model 1: Machine learning fundamentals\n",
        "### Artificial Intelligence, Machine learning and Neural networks\n",
        "AI was initially an application of human rules to solve problems( Chess , tic tac toe).\n",
        "\n",
        "ML gets the data and generates the rules to obtain the expected results.\n",
        "\n",
        "NN are a form of machine learning that uses a layered representation of data.\n",
        "\n",
        "AI > ML > NN\n",
        "\n",
        "### Data\n",
        "\n",
        "Data is needed to generate rules.\n",
        "The data should have the predicting variables  and the output.\n",
        "The data has to be separated in train and test set to test the accuracy of the model.\n",
        "\n",
        "### Supervised learning\n",
        "\n",
        "Predicting using a model generated using a dataset consisting of training data with training output that serves to train the model.\n",
        "\n",
        "### Unsupervised learning\n",
        "\n",
        "The machine will label the groups of data without having a known output for the data.\n",
        "\n",
        "### Reinforcement\n",
        "\n",
        "Maximize the reward of the agent to get to a position. Choose the optimal way to do something."
      ]
    },
    {
      "cell_type": "markdown",
      "metadata": {
        "collapsed": false,
        "pycharm": {
          "name": "#%% md\n"
        },
        "id": "bKOfnLyOZIhR"
      },
      "source": [
        "## Module 2: Introduction to tensorflow\n",
        "\n",
        "Tensorflow is an open source machine learning platform owned and maintained by google.\n",
        "In the course tensorflow will be used to:\n",
        "- Image classification\n",
        "- Data clustering\n",
        "- Regression\n",
        "- Reinforcement Learning\n",
        "- Natural language processing\n",
        "\n",
        "### How it works\n",
        "Tensorflow has two main components:\n",
        "- Graphs\n",
        "Tensorflow creates a graph of partial computations. It's like preparing an equation without using numbers. Define the partial computations.\n",
        "- Sessions\n",
        "A session is a way to run a graph or part of it. It starts by the non-dependent parts and keeps going with the subsequent levels.\n"
      ]
    },
    {
      "cell_type": "code",
      "metadata": {
        "pycharm": {
          "name": "#%%\n"
        },
        "id": "pr9UVo-bZIhS"
      },
      "source": [
        "import numpy as np\n",
        "import tensorflow as tf"
      ],
      "execution_count": 1,
      "outputs": []
    },
    {
      "cell_type": "code",
      "metadata": {
        "pycharm": {
          "name": "#%%\n"
        },
        "id": "kfUfZ6PAZIhZ"
      },
      "source": [
        ""
      ],
      "execution_count": null,
      "outputs": []
    }
  ]
}